{
 "cells": [
  {
   "cell_type": "code",
   "execution_count": 0,
   "metadata": {
    "application/vnd.databricks.v1+cell": {
     "cellMetadata": {
      "byteLimit": 2048000,
      "rowLimit": 10000
     },
     "inputWidgets": {},
     "nuid": "70c78c16-c436-4e4f-bbca-b48ff962090b",
     "showTitle": false,
     "tableResultSettingsMap": {},
     "title": ""
    }
   },
   "outputs": [],
   "source": [
    "from pyspark.sql import SparkSession\n",
    "from pyspark.sql.functions import *\n",
    "from pyspark.sql.types import *"
   ]
  },
  {
   "cell_type": "code",
   "execution_count": 0,
   "metadata": {
    "application/vnd.databricks.v1+cell": {
     "cellMetadata": {
      "byteLimit": 2048000,
      "rowLimit": 10000
     },
     "inputWidgets": {},
     "nuid": "426be2dd-ac59-4388-a3ab-a647bf8b2d0f",
     "showTitle": false,
     "tableResultSettingsMap": {},
     "title": ""
    }
   },
   "outputs": [],
   "source": [
    "spark = SparkSession.builder \\\n",
    "    .appName(\"PySparkPractice\") \\\n",
    "    .getOrCreate()"
   ]
  },
  {
   "cell_type": "markdown",
   "metadata": {
    "application/vnd.databricks.v1+cell": {
     "cellMetadata": {},
     "inputWidgets": {},
     "nuid": "3d31405e-a19f-4378-82c8-69e3df8038ea",
     "showTitle": false,
     "tableResultSettingsMap": {},
     "title": ""
    }
   },
   "source": [
    "## DataFrame Creation and Basic Operations"
   ]
  },
  {
   "cell_type": "code",
   "execution_count": 0,
   "metadata": {
    "application/vnd.databricks.v1+cell": {
     "cellMetadata": {
      "byteLimit": 2048000,
      "rowLimit": 10000
     },
     "inputWidgets": {},
     "nuid": "8683612b-5a20-4381-b8f0-ce0ff691ca1b",
     "showTitle": false,
     "tableResultSettingsMap": {},
     "title": ""
    }
   },
   "outputs": [],
   "source": [
    "employee_data = [\n",
    "    {\"id\": 1, \"name\": \"John Doe\", \"department\": \"IT\", \"salary\": 75000, \"join_date\": \"2020-01-15\"},\n",
    "    {\"id\": 2, \"name\": \"Jane Smith\", \"department\": \"HR\", \"salary\": 65000, \"join_date\": \"2019-03-22\"},\n",
    "    {\"id\": 3, \"name\": \"Mike Johnson\", \"department\": \"IT\", \"salary\": 80000, \"join_date\": \"2021-07-10\"},\n",
    "    {\"id\": 4, \"name\": \"Emily Davis\", \"department\": \"Finance\", \"salary\": 90000, \"join_date\": \"2018-11-05\"},\n",
    "    {\"id\": 5, \"name\": \"David Wilson\", \"department\": \"HR\", \"salary\": 70000, \"join_date\": \"2020-09-18\"}\n",
    "]"
   ]
  },
  {
   "cell_type": "code",
   "execution_count": 0,
   "metadata": {
    "application/vnd.databricks.v1+cell": {
     "cellMetadata": {
      "byteLimit": 2048000,
      "rowLimit": 10000
     },
     "inputWidgets": {},
     "nuid": "82c0a7f3-3229-4c51-8b21-e0d6769c03fc",
     "showTitle": false,
     "tableResultSettingsMap": {},
     "title": ""
    }
   },
   "outputs": [],
   "source": [
    "df = spark.createDataFrame(employee_data)"
   ]
  },
  {
   "cell_type": "code",
   "execution_count": 0,
   "metadata": {
    "application/vnd.databricks.v1+cell": {
     "cellMetadata": {
      "byteLimit": 2048000,
      "rowLimit": 10000
     },
     "inputWidgets": {},
     "nuid": "e8fcf875-f674-4135-939e-5c45273b1cec",
     "showTitle": false,
     "tableResultSettingsMap": {},
     "title": ""
    }
   },
   "outputs": [
    {
     "output_type": "stream",
     "name": "stdout",
     "output_type": "stream",
     "text": [
      "root\n |-- department: string (nullable = true)\n |-- id: long (nullable = true)\n |-- join_date: string (nullable = true)\n |-- name: string (nullable = true)\n |-- salary: long (nullable = true)\n\n"
     ]
    }
   ],
   "source": [
    "df.printSchema()"
   ]
  },
  {
   "cell_type": "code",
   "execution_count": 0,
   "metadata": {
    "application/vnd.databricks.v1+cell": {
     "cellMetadata": {
      "byteLimit": 2048000,
      "rowLimit": 10000
     },
     "inputWidgets": {},
     "nuid": "92d5911f-89a4-49b7-8ccb-eaab8a2b38a6",
     "showTitle": false,
     "tableResultSettingsMap": {},
     "title": ""
    }
   },
   "outputs": [
    {
     "output_type": "stream",
     "name": "stdout",
     "output_type": "stream",
     "text": [
      "+----------+---+----------+------------+------+\n|department| id| join_date|        name|salary|\n+----------+---+----------+------------+------+\n|        IT|  1|2020-01-15|    John Doe| 75000|\n|        HR|  2|2019-03-22|  Jane Smith| 65000|\n|        IT|  3|2021-07-10|Mike Johnson| 80000|\n|   Finance|  4|2018-11-05| Emily Davis| 90000|\n|        HR|  5|2020-09-18|David Wilson| 70000|\n+----------+---+----------+------------+------+\n\n"
     ]
    }
   ],
   "source": [
    "df.show()"
   ]
  },
  {
   "cell_type": "code",
   "execution_count": 0,
   "metadata": {
    "application/vnd.databricks.v1+cell": {
     "cellMetadata": {
      "byteLimit": 2048000,
      "rowLimit": 10000
     },
     "inputWidgets": {},
     "nuid": "50c7590f-c9ce-4c03-8f4e-e31159547615",
     "showTitle": false,
     "tableResultSettingsMap": {},
     "title": ""
    }
   },
   "outputs": [
    {
     "output_type": "stream",
     "name": "stdout",
     "output_type": "stream",
     "text": [
      "+------------+------+\n|        name|salary|\n+------------+------+\n|    John Doe| 75000|\n|  Jane Smith| 65000|\n|Mike Johnson| 80000|\n| Emily Davis| 90000|\n|David Wilson| 70000|\n+------------+------+\n\n"
     ]
    }
   ],
   "source": [
    "df.select(['name','salary']).show()"
   ]
  },
  {
   "cell_type": "code",
   "execution_count": 0,
   "metadata": {
    "application/vnd.databricks.v1+cell": {
     "cellMetadata": {
      "byteLimit": 2048000,
      "rowLimit": 10000
     },
     "inputWidgets": {},
     "nuid": "11f661ab-42f8-47b4-b91f-61c4bc52c9ef",
     "showTitle": false,
     "tableResultSettingsMap": {},
     "title": ""
    }
   },
   "outputs": [
    {
     "output_type": "stream",
     "name": "stdout",
     "output_type": "stream",
     "text": [
      "+------------+------+\n|        name|salary|\n+------------+------+\n|    John Doe| 75000|\n|  Jane Smith| 65000|\n|Mike Johnson| 80000|\n| Emily Davis| 90000|\n|David Wilson| 70000|\n+------------+------+\n\n"
     ]
    }
   ],
   "source": [
    "df.select(df.name, df.salary).show()"
   ]
  },
  {
   "cell_type": "code",
   "execution_count": 0,
   "metadata": {
    "application/vnd.databricks.v1+cell": {
     "cellMetadata": {
      "byteLimit": 2048000,
      "rowLimit": 10000
     },
     "inputWidgets": {},
     "nuid": "9b4a316f-233f-4f2c-8d05-01261eb3dc1f",
     "showTitle": false,
     "tableResultSettingsMap": {},
     "title": ""
    }
   },
   "outputs": [
    {
     "output_type": "stream",
     "name": "stdout",
     "output_type": "stream",
     "text": [
      "+----------+---+----------+------------+------+\n|department| id| join_date|        name|salary|\n+----------+---+----------+------------+------+\n|        IT|  1|2020-01-15|    John Doe| 75000|\n|        IT|  3|2021-07-10|Mike Johnson| 80000|\n|   Finance|  4|2018-11-05| Emily Davis| 90000|\n+----------+---+----------+------------+------+\n\n"
     ]
    }
   ],
   "source": [
    "df.filter(col(\"salary\")>70000).show()"
   ]
  },
  {
   "cell_type": "code",
   "execution_count": 0,
   "metadata": {
    "application/vnd.databricks.v1+cell": {
     "cellMetadata": {
      "byteLimit": 2048000,
      "rowLimit": 10000
     },
     "inputWidgets": {},
     "nuid": "06726381-9f74-4197-86d2-c78bae6a4d4d",
     "showTitle": false,
     "tableResultSettingsMap": {},
     "title": ""
    }
   },
   "outputs": [
    {
     "output_type": "stream",
     "name": "stdout",
     "output_type": "stream",
     "text": [
      "+----------+---+----------+------------+------+------+\n|department| id| join_date|        name|salary| bonus|\n+----------+---+----------+------------+------+------+\n|        IT|  1|2020-01-15|    John Doe| 75000|7500.0|\n|        HR|  2|2019-03-22|  Jane Smith| 65000|6500.0|\n|        IT|  3|2021-07-10|Mike Johnson| 80000|8000.0|\n|   Finance|  4|2018-11-05| Emily Davis| 90000|9000.0|\n|        HR|  5|2020-09-18|David Wilson| 70000|7000.0|\n+----------+---+----------+------------+------+------+\n\n"
     ]
    }
   ],
   "source": [
    "df.withColumn('bonus', col('salary')*0.1).show()"
   ]
  },
  {
   "cell_type": "code",
   "execution_count": 0,
   "metadata": {
    "application/vnd.databricks.v1+cell": {
     "cellMetadata": {
      "byteLimit": 2048000,
      "rowLimit": 10000
     },
     "inputWidgets": {},
     "nuid": "2cd075c7-8483-473c-bfdf-cf6fea497dbd",
     "showTitle": false,
     "tableResultSettingsMap": {},
     "title": ""
    }
   },
   "outputs": [
    {
     "output_type": "stream",
     "name": "stdout",
     "output_type": "stream",
     "text": [
      "+-----------+\n|avg(salary)|\n+-----------+\n|    76000.0|\n+-----------+\n\n"
     ]
    }
   ],
   "source": [
    "df.agg({'salary':'avg'}).show()"
   ]
  },
  {
   "cell_type": "code",
   "execution_count": 0,
   "metadata": {
    "application/vnd.databricks.v1+cell": {
     "cellMetadata": {
      "byteLimit": 2048000,
      "rowLimit": 10000
     },
     "inputWidgets": {},
     "nuid": "c977d85c-f824-45ee-b999-cfca73a76bb5",
     "showTitle": false,
     "tableResultSettingsMap": {},
     "title": ""
    }
   },
   "outputs": [
    {
     "output_type": "stream",
     "name": "stdout",
     "output_type": "stream",
     "text": [
      "+----------+-----------+\n|department|avg(salary)|\n+----------+-----------+\n|        IT|    77500.0|\n|        HR|    67500.0|\n|   Finance|    90000.0|\n+----------+-----------+\n\n"
     ]
    }
   ],
   "source": [
    "df.groupBy('department').avg('salary').show()"
   ]
  },
  {
   "cell_type": "markdown",
   "metadata": {
    "application/vnd.databricks.v1+cell": {
     "cellMetadata": {},
     "inputWidgets": {},
     "nuid": "cd5cc40e-b97f-44a5-9aeb-979e2cf5d60c",
     "showTitle": false,
     "tableResultSettingsMap": {},
     "title": ""
    }
   },
   "source": [
    "## Data Cleaning and Transformation"
   ]
  },
  {
   "cell_type": "code",
   "execution_count": 0,
   "metadata": {
    "application/vnd.databricks.v1+cell": {
     "cellMetadata": {
      "byteLimit": 2048000,
      "rowLimit": 10000
     },
     "inputWidgets": {},
     "nuid": "c225603f-c179-47de-b9d3-627f86cdb245",
     "showTitle": false,
     "tableResultSettingsMap": {},
     "title": ""
    }
   },
   "outputs": [],
   "source": [
    "customer_data = [\n",
    "    {\"cust_id\": 1001, \"name\": \"Alice\", \"email\": \"alice@example.com\", \"age\": 32, \"city\": \"New York\", \"last_purchase\": \"2023-05-15\"},\n",
    "    {\"cust_id\": 1002, \"name\": \"Bob\", \"email\": None, \"age\": 45, \"city\": \"Chicago\", \"last_purchase\": \"2023-06-22\"},\n",
    "    {\"cust_id\": 1003, \"name\": \"Charlie\", \"email\": \"charlie@example.com\", \"age\": None, \"city\": \"Boston\", \"last_purchase\": \"2023-04-10\"},\n",
    "    {\"cust_id\": 1004, \"name\": None, \"email\": \"dave@example.com\", \"age\": 29, \"city\": \"New York\", \"last_purchase\": None},\n",
    "    {\"cust_id\": 1005, \"name\": \"Eve\", \"email\": \"eve@example.com\", \"age\": 35, \"city\": \"San Francisco\", \"last_purchase\": \"2023-07-01\"}\n",
    "]"
   ]
  },
  {
   "cell_type": "code",
   "execution_count": 0,
   "metadata": {
    "application/vnd.databricks.v1+cell": {
     "cellMetadata": {
      "byteLimit": 2048000,
      "rowLimit": 10000
     },
     "inputWidgets": {},
     "nuid": "47aed28c-78bb-40b6-9bea-d3d1782e9176",
     "showTitle": false,
     "tableResultSettingsMap": {},
     "title": ""
    }
   },
   "outputs": [],
   "source": [
    "customer_df = spark.createDataFrame(customer_data)"
   ]
  },
  {
   "cell_type": "code",
   "execution_count": 0,
   "metadata": {
    "application/vnd.databricks.v1+cell": {
     "cellMetadata": {
      "byteLimit": 2048000,
      "rowLimit": 10000
     },
     "inputWidgets": {},
     "nuid": "c992e694-d4fc-44b3-83ee-cf020c6c75c2",
     "showTitle": false,
     "tableResultSettingsMap": {},
     "title": ""
    }
   },
   "outputs": [
    {
     "output_type": "stream",
     "name": "stdout",
     "output_type": "stream",
     "text": [
      "+----+-------------+-------+-------------------+-------------+-------+\n| age|         city|cust_id|              email|last_purchase|   name|\n+----+-------------+-------+-------------------+-------------+-------+\n|  32|     New York|   1001|  alice@example.com|   2023-05-15|  Alice|\n|  45|      Chicago|   1002|               NULL|   2023-06-22|    Bob|\n|NULL|       Boston|   1003|charlie@example.com|   2023-04-10|Charlie|\n|  29|     New York|   1004|   dave@example.com|         NULL|   NULL|\n|  35|San Francisco|   1005|    eve@example.com|   2023-07-01|    Eve|\n+----+-------------+-------+-------------------+-------------+-------+\n\n"
     ]
    }
   ],
   "source": [
    "customer_df.show()"
   ]
  },
  {
   "cell_type": "code",
   "execution_count": 0,
   "metadata": {
    "application/vnd.databricks.v1+cell": {
     "cellMetadata": {
      "byteLimit": 2048000,
      "rowLimit": 10000
     },
     "inputWidgets": {},
     "nuid": "f30e331b-59d1-4da9-b1c6-9a47d1c23d3b",
     "showTitle": false,
     "tableResultSettingsMap": {},
     "title": ""
    }
   },
   "outputs": [
    {
     "output_type": "stream",
     "name": "stdout",
     "output_type": "stream",
     "text": [
      "+---+-------------+-------+-----------------+-------------+-----+\n|age|         city|cust_id|            email|last_purchase| name|\n+---+-------------+-------+-----------------+-------------+-----+\n| 32|     New York|   1001|alice@example.com|   2023-05-15|Alice|\n| 35|San Francisco|   1005|  eve@example.com|   2023-07-01|  Eve|\n+---+-------------+-------+-----------------+-------------+-----+\n\n"
     ]
    }
   ],
   "source": [
    "customer_df.na.drop().show()"
   ]
  },
  {
   "cell_type": "code",
   "execution_count": 0,
   "metadata": {
    "application/vnd.databricks.v1+cell": {
     "cellMetadata": {
      "byteLimit": 2048000,
      "rowLimit": 10000
     },
     "inputWidgets": {},
     "nuid": "e1ff716b-bd22-4839-b17b-1b1a71a1a41a",
     "showTitle": false,
     "tableResultSettingsMap": {},
     "title": ""
    }
   },
   "outputs": [
    {
     "output_type": "stream",
     "name": "stdout",
     "output_type": "stream",
     "text": [
      "+----+-------------+-------+--------------------+-------------+-------+\n| age|         city|cust_id|               email|last_purchase|   name|\n+----+-------------+-------+--------------------+-------------+-------+\n|  32|     New York|   1001|   alice@example.com|   2023-05-15|  Alice|\n|  45|      Chicago|   1002|no_email@example.com|   2023-06-22|    Bob|\n|NULL|       Boston|   1003| charlie@example.com|   2023-04-10|Charlie|\n|  29|     New York|   1004|    dave@example.com|         NULL|   NULL|\n|  35|San Francisco|   1005|     eve@example.com|   2023-07-01|    Eve|\n+----+-------------+-------+--------------------+-------------+-------+\n\n"
     ]
    }
   ],
   "source": [
    "customers_filled = customer_df.na.fill({'email': 'no_email@example.com'})\n",
    "customers_filled.show()"
   ]
  },
  {
   "cell_type": "code",
   "execution_count": 0,
   "metadata": {
    "application/vnd.databricks.v1+cell": {
     "cellMetadata": {
      "byteLimit": 2048000,
      "rowLimit": 10000
     },
     "inputWidgets": {},
     "nuid": "551015b7-89cd-4929-b1bc-80c57cbae257",
     "showTitle": false,
     "tableResultSettingsMap": {},
     "title": ""
    }
   },
   "outputs": [
    {
     "output_type": "stream",
     "name": "stdout",
     "output_type": "stream",
     "text": [
      "+----+-------------+-------+--------------------+-------------+-------+\n| age|         city|cust_id|               email|last_purchase|   name|\n+----+-------------+-------+--------------------+-------------+-------+\n|  32|     New York|   1001|   alice@example.com|   2023-05-15|  Alice|\n|  45|      Chicago|   1002|no_email@example.com|   2023-06-22|    Bob|\n|NULL|       Boston|   1003| charlie@example.com|   2023-04-10|Charlie|\n|  35|San Francisco|   1005|     eve@example.com|   2023-07-01|    Eve|\n+----+-------------+-------+--------------------+-------------+-------+\n\n"
     ]
    }
   ],
   "source": [
    "customers_clean = customers_filled.filter(col('name').isNotNull())\n",
    "customers_clean.show()"
   ]
  },
  {
   "cell_type": "code",
   "execution_count": 0,
   "metadata": {
    "application/vnd.databricks.v1+cell": {
     "cellMetadata": {
      "byteLimit": 2048000,
      "rowLimit": 10000
     },
     "inputWidgets": {},
     "nuid": "6208d88d-ce2c-4e35-a64b-66ccca5762e6",
     "showTitle": false,
     "tableResultSettingsMap": {},
     "title": ""
    }
   },
   "outputs": [],
   "source": [
    "avg_age = customers_clean.select(avg('age')).collect()[0][0]\n"
   ]
  },
  {
   "cell_type": "code",
   "execution_count": 0,
   "metadata": {
    "application/vnd.databricks.v1+cell": {
     "cellMetadata": {
      "byteLimit": 2048000,
      "rowLimit": 10000
     },
     "inputWidgets": {},
     "nuid": "13ff3936-948e-4788-9d48-b0964073d44c",
     "showTitle": false,
     "tableResultSettingsMap": {},
     "title": ""
    }
   },
   "outputs": [
    {
     "output_type": "stream",
     "name": "stdout",
     "output_type": "stream",
     "text": [
      "+---+-------------+-------+--------------------+-------------+-------+\n|age|         city|cust_id|               email|last_purchase|   name|\n+---+-------------+-------+--------------------+-------------+-------+\n| 32|     New York|   1001|   alice@example.com|   2023-05-15|  Alice|\n| 45|      Chicago|   1002|no_email@example.com|   2023-06-22|    Bob|\n| 37|       Boston|   1003| charlie@example.com|   2023-04-10|Charlie|\n| 35|San Francisco|   1005|     eve@example.com|   2023-07-01|    Eve|\n+---+-------------+-------+--------------------+-------------+-------+\n\n"
     ]
    }
   ],
   "source": [
    "customers_clean = customers_clean.na.fill({'age': avg_age})\n",
    "customers_clean.show()"
   ]
  },
  {
   "cell_type": "code",
   "execution_count": 0,
   "metadata": {
    "application/vnd.databricks.v1+cell": {
     "cellMetadata": {
      "byteLimit": 2048000,
      "rowLimit": 10000
     },
     "inputWidgets": {},
     "nuid": "0fcda085-a49e-4c34-b5f1-d2d7eaddc037",
     "showTitle": false,
     "tableResultSettingsMap": {},
     "title": ""
    }
   },
   "outputs": [
    {
     "output_type": "stream",
     "name": "stdout",
     "output_type": "stream",
     "text": [
      "+---+-------------+-------+--------------------+-------------+-------+\n|age|         city|cust_id|               email|last_purchase|   name|\n+---+-------------+-------+--------------------+-------------+-------+\n| 37|       Boston|   1003| charlie@example.com|   2023-04-10|Charlie|\n| 32|     New York|   1001|   alice@example.com|   2023-05-15|  Alice|\n| 45|      Chicago|   1002|no_email@example.com|   2023-06-22|    Bob|\n| 35|San Francisco|   1005|     eve@example.com|   2023-07-01|    Eve|\n+---+-------------+-------+--------------------+-------------+-------+\n\n"
     ]
    }
   ],
   "source": [
    "customers_clean.orderBy('last_purchase').show()"
   ]
  },
  {
   "cell_type": "markdown",
   "metadata": {
    "application/vnd.databricks.v1+cell": {
     "cellMetadata": {},
     "inputWidgets": {},
     "nuid": "875d1670-33ee-452e-8b7a-b7d59957610d",
     "showTitle": false,
     "tableResultSettingsMap": {},
     "title": ""
    }
   },
   "source": [
    "## Convert to date type"
   ]
  },
  {
   "cell_type": "code",
   "execution_count": 0,
   "metadata": {
    "application/vnd.databricks.v1+cell": {
     "cellMetadata": {
      "byteLimit": 2048000,
      "rowLimit": 10000
     },
     "inputWidgets": {},
     "nuid": "41ea5bf4-0534-47a4-ba4f-584b57fde77d",
     "showTitle": false,
     "tableResultSettingsMap": {},
     "title": ""
    }
   },
   "outputs": [
    {
     "output_type": "stream",
     "name": "stdout",
     "output_type": "stream",
     "text": [
      "root\n |-- age: long (nullable = true)\n |-- city: string (nullable = true)\n |-- cust_id: long (nullable = true)\n |-- email: string (nullable = false)\n |-- last_purchase: string (nullable = true)\n |-- name: string (nullable = true)\n\n"
     ]
    }
   ],
   "source": [
    "customers_clean.printSchema()"
   ]
  },
  {
   "cell_type": "code",
   "execution_count": 0,
   "metadata": {
    "application/vnd.databricks.v1+cell": {
     "cellMetadata": {
      "byteLimit": 2048000,
      "rowLimit": 10000
     },
     "inputWidgets": {},
     "nuid": "8f988d8d-0b4e-4f5d-83cf-61f2aa63e8de",
     "showTitle": false,
     "tableResultSettingsMap": {},
     "title": ""
    }
   },
   "outputs": [
    {
     "output_type": "stream",
     "name": "stdout",
     "output_type": "stream",
     "text": [
      "+---+-------------+-------+--------------------+-------------+-------+\n|age|         city|cust_id|               email|last_purchase|   name|\n+---+-------------+-------+--------------------+-------------+-------+\n| 32|     New York|   1001|   alice@example.com|   2023-05-15|  Alice|\n| 45|      Chicago|   1002|no_email@example.com|   2023-06-22|    Bob|\n| 37|       Boston|   1003| charlie@example.com|   2023-04-10|Charlie|\n| 35|San Francisco|   1005|     eve@example.com|   2023-07-01|    Eve|\n+---+-------------+-------+--------------------+-------------+-------+\n\n"
     ]
    }
   ],
   "source": [
    "customers_clean = customers_clean.withColumn(\n",
    "    'last_purchase',\n",
    "    to_date(col('last_purchase'), 'yyyy-MM-dd')\n",
    ")\n",
    "customers_clean.show()"
   ]
  },
  {
   "cell_type": "code",
   "execution_count": 0,
   "metadata": {
    "application/vnd.databricks.v1+cell": {
     "cellMetadata": {
      "byteLimit": 2048000,
      "rowLimit": 10000
     },
     "inputWidgets": {},
     "nuid": "b45a6f10-a619-434a-83ec-4cd02d208fcb",
     "showTitle": false,
     "tableResultSettingsMap": {},
     "title": ""
    }
   },
   "outputs": [
    {
     "output_type": "stream",
     "name": "stdout",
     "output_type": "stream",
     "text": [
      "root\n |-- age: long (nullable = true)\n |-- city: string (nullable = true)\n |-- cust_id: long (nullable = true)\n |-- email: string (nullable = false)\n |-- last_purchase: date (nullable = true)\n |-- name: string (nullable = true)\n\n"
     ]
    }
   ],
   "source": [
    "customers_clean.printSchema()"
   ]
  },
  {
   "cell_type": "code",
   "execution_count": 0,
   "metadata": {
    "application/vnd.databricks.v1+cell": {
     "cellMetadata": {},
     "inputWidgets": {},
     "nuid": "27307c89-863a-478a-b9e7-cd224a5e39d1",
     "showTitle": false,
     "tableResultSettingsMap": {},
     "title": ""
    }
   },
   "outputs": [],
   "source": []
  }
 ],
 "metadata": {
  "application/vnd.databricks.v1+notebook": {
   "computePreferences": null,
   "dashboards": [],
   "environmentMetadata": {
    "base_environment": "",
    "environment_version": "2"
   },
   "inputWidgetPreferences": null,
   "language": "python",
   "notebookMetadata": {
    "pythonIndentUnit": 4
   },
   "notebookName": "PySpark",
   "widgets": {}
  },
  "language_info": {
   "name": "python"
  }
 },
 "nbformat": 4,
 "nbformat_minor": 0
}